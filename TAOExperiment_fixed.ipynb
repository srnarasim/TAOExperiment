{
 "cells": [
  {
   "cell_type": "markdown",
   "metadata": {},
   "source": [
    "# TAO Experiment - Text Classification"
   ]
  },
  {
   "cell_type": "code",
   "metadata": {},
   "source": [
    "# Create a CSV file with sample content\n",
    "\n",
    "import csv\n",
    "\n",
    "data = [\n",
    "    ['Product', 'Product Description', 'Category'],\n",
    "    ['Wireless Bluetooth headphones with noise cancellation', 'Headphones', 'Electronics'],\n",
    "    ['Smartphone with OLED display and 128GB storage', 'Smartphone', 'Electronics'],\n",
    "    ['Gaming laptop with high refresh rate screen', 'Laptop', 'Electronics'],\n",
    "    ['Smart home security camera with night vision', 'Smart Home Device', 'Electronics']\n",
    "]\n",
    "\n",
    "with open('output.csv', 'w', newline='') as csvfile:\n",
    "    writer = csv.writer(csvfile)\n",
    "    writer.writerows(data)\n",
    "\n",
    "!cat output.csv"
   ],
   "execution_count": null,
   "outputs": []
  },
  {
   "cell_type": "code",
   "metadata": {},
   "source": [
    "!pip install datasets\n",
    "!pip install transformers accelerate bitsandbytes"
   ],
   "execution_count": null,
   "outputs": []
  },
  {
   "cell_type": "code",
   "metadata": {},
   "source": [
    "import pandas as pd\n",
    "from transformers import AutoTokenizer\n",
    "\n",
    "# Load dataset\n",
    "df = pd.read_csv(\"output.csv\")\n",
    "\n",
    "# Load tokenizer (using BERT model which is publicly available)\n",
    "model_name = \"bert-base-uncased\"\n",
    "tokenizer = AutoTokenizer.from_pretrained(model_name)\n",
    "\n",
    "# Convert category labels to numeric values\n",
    "category_mapping = {category: idx for idx, category in enumerate(df[\"Category\"].unique())}\n",
    "df[\"Label\"] = df[\"Category\"].map(category_mapping)\n",
    "\n",
    "# Explicitly set a max_length value\n",
    "max_length = 128  # Choose an appropriate value for your texts\n",
    "\n",
    "# Tokenize product descriptions\n",
    "encoded_data = tokenizer(\n",
    "    df[\"Product Description\"].tolist(),\n",
    "    padding=True,\n",
    "    truncation=True,\n",
    "    max_length=max_length,\n",
    "    return_tensors=\"pt\"\n",
    ")\n",
    "\n",
    "# Store tokenized data in the DataFrame\n",
    "df[\"input_ids\"] = encoded_data[\"input_ids\"].tolist()\n",
    "df[\"attention_mask\"] = encoded_data[\"attention_mask\"].tolist()\n",
    "\n",
    "print(\"Tokenization completed. DataFrame columns:\", df.columns.tolist())"
   ],
   "execution_count": null,
   "outputs": []
  },
  {
   "cell_type": "code",
   "metadata": {},
   "source": [
    "# Display the DataFrame with tokenized data and labels\n",
    "df[[\"Product Description\", \"Category\", \"Label\", \"input_ids\", \"attention_mask\"]]"
   ],
   "execution_count": null,
   "outputs": []
  },
  {
   "cell_type": "code",
   "metadata": {},
   "source": [
    "import torch\n",
    "from datasets import Dataset\n",
    "from transformers import AutoModelForSequenceClassification, Trainer, TrainingArguments\n",
    "\n",
    "# Create the dataset\n",
    "dataset = Dataset.from_pandas(df)\n",
    "\n",
    "# Split dataset into train and validation sets\n",
    "dataset_split = dataset.train_test_split(test_size=0.2)\n",
    "train_dataset = dataset_split[\"train\"]\n",
    "eval_dataset = dataset_split[\"test\"]\n",
    "\n",
    "# Load pre-trained model\n",
    "model = AutoModelForSequenceClassification.from_pretrained(model_name, num_labels=len(category_mapping))\n",
    "\n",
    "# Define compute_metrics function for evaluation\n",
    "def compute_metrics(eval_pred):\n",
    "    predictions, labels = eval_pred\n",
    "    predictions = predictions.argmax(axis=1)\n",
    "    accuracy = (predictions == labels).mean()\n",
    "    return {\"accuracy\": accuracy}\n",
    "\n",
    "# Training arguments\n",
    "training_args = TrainingArguments(\n",
    "    output_dir=\"./results\",\n",
    "    evaluation_strategy=\"epoch\",\n",
    "    save_strategy=\"epoch\",\n",
    "    per_device_train_batch_size=8,\n",
    "    per_device_eval_batch_size=8,\n",
    "    num_train_epochs=3,\n",
    "    load_best_model_at_end=True,\n",
    "    metric_for_best_model=\"accuracy\"\n",
    ")\n",
    "\n",
    "# Train the model\n",
    "trainer = Trainer(\n",
    "    model=model,\n",
    "    args=training_args,\n",
    "    train_dataset=train_dataset,\n",
    "    eval_dataset=eval_dataset,\n",
    "    compute_metrics=compute_metrics\n",
    ")\n",
    "\n",
    "trainer.train()"
   ],
   "execution_count": null,
   "outputs": []
  }
 ],
 "metadata": {
  "kernelspec": {
   "display_name": "Python 3",
   "language": "python",
   "name": "python3"
  },
  "language_info": {
   "codemirror_mode": {
    "name": "ipython",
    "version": 3
   },
   "file_extension": ".py",
   "mimetype": "text/x-python",
   "name": "python",
   "nbconvert_exporter": "python",
   "pygments_lexer": "ipython3",
   "version": "3.12.0"
  }
 },
 "nbformat": 4,
 "nbformat_minor": 4
}